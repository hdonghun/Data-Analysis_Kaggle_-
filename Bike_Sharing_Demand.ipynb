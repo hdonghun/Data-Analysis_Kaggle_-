{
 "cells": [
  {
   "cell_type": "markdown",
   "id": "77f2a3f5",
   "metadata": {},
   "source": [
    "### Bike_Sharing_Demand - Forecast use of a city bikeshare system"
   ]
  },
  {
   "cell_type": "code",
   "execution_count": 46,
   "id": "97679bf4",
   "metadata": {},
   "outputs": [
    {
     "data": {
      "text/plain": [
       "((8708, 11), (2178, 11), (8708, 2), (2178, 2))"
      ]
     },
     "execution_count": 46,
     "metadata": {},
     "output_type": "execute_result"
    }
   ],
   "source": [
    "import pandas as pd\n",
    "import numpy as np\n",
    "from sklearn.model_selection import train_test_split\n",
    "\n",
    "def exam_data_load(df, target, id_name=\"\", null_name=\"\"):\n",
    "    if id_name == \"\":\n",
    "        df = df.reset_index().rename(columns={\"index\": \"id\"})\n",
    "        id_name = 'id'\n",
    "    else:\n",
    "        id_name = id_name\n",
    "    \n",
    "    if null_name != \"\":\n",
    "        df[df == null_name] = np.nan\n",
    "    \n",
    "    X_train, X_test = train_test_split(df, test_size=0.2, shuffle=True, random_state=2021)\n",
    "    y_train = X_train[[id_name, target]]\n",
    "    X_train = X_train.drop(columns=[id_name, target])\n",
    "    y_test = X_test[[id_name, target]]\n",
    "    X_test = X_test.drop(columns=[id_name, target])\n",
    "    return X_train, X_test, y_train, y_test \n",
    "    \n",
    "df = pd.read_csv('共享单车 train.csv') # 我的文件的名字\n",
    "X_train, X_test, y_train, y_test = exam_data_load(df, target='count')#, id_name='Id')\n",
    "\n",
    "X_train.shape, X_test.shape, y_train.shape, y_test.shape"
   ]
  },
  {
   "cell_type": "code",
   "execution_count": 47,
   "id": "e9d46fdc",
   "metadata": {},
   "outputs": [
    {
     "data": {
      "text/plain": [
       "((8708, 11), (2178, 11), (8708, 2), (2178, 2))"
      ]
     },
     "execution_count": 47,
     "metadata": {},
     "output_type": "execute_result"
    }
   ],
   "source": [
    "X_train.shape, X_test.shape, y_train.shape, y_test.shape"
   ]
  },
  {
   "cell_type": "code",
   "execution_count": 48,
   "id": "8d8c0f66",
   "metadata": {},
   "outputs": [
    {
     "name": "stdout",
     "output_type": "stream",
     "text": [
      "0.9942778268035373\n",
      "165.589\n"
     ]
    }
   ],
   "source": [
    "from sklearn.metrics import accuracy_score, mean_squared_error\n",
    "dt = DecisionTreeRegressor()\n",
    "dt.fit(X_tr,y_tr)\n",
    "y_pred = dt.predict(X_ts)\n",
    "print(dt.score(X_tr,y_tr))\n",
    "print(round(np.sqrt(mean_squared_error(y_ts,y_pred)),3))"
   ]
  }
 ],
 "metadata": {
  "kernelspec": {
   "display_name": "Python 3",
   "language": "python",
   "name": "python3"
  },
  "language_info": {
   "codemirror_mode": {
    "name": "ipython",
    "version": 3
   },
   "file_extension": ".py",
   "mimetype": "text/x-python",
   "name": "python",
   "nbconvert_exporter": "python",
   "pygments_lexer": "ipython3",
   "version": "3.8.8"
  }
 },
 "nbformat": 4,
 "nbformat_minor": 5
}
