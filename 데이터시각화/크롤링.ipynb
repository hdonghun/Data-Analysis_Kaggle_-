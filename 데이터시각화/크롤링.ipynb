{
 "cells": [
  {
   "cell_type": "code",
   "execution_count": 148,
   "id": "81b71d08",
   "metadata": {},
   "outputs": [
    {
     "name": "stdout",
     "output_type": "stream",
     "text": [
      "그린코스 썸블라썸 시카 케어 바디 미스트 300ml\n",
      "나이키 에어 포스 1 07 CW2288-111\n",
      "LG전자 스탠바이미 27ART10AKPL\n",
      "포켓몬 아르세우스 예약 포켓몬스터 레전드 아르세우스 특전 선택\n",
      "닌텐도 스위치 OLED\n",
      "Apple 에어팟 프로 2021년형 맥세이프 호환 (MLWK3KH/A)\n",
      "Apple 에어팟 3세대 2021년형 (MME73KH/A)\n",
      "삼성전자 갤럭시 갤럭시탭S7 FE (SM-T733N) Wi-Fi 128GB\n",
      "삼성전자 갤럭시 갤럭시 A52S 5G 128GB (자급제)\n",
      "닌텐도 닌텐도 스위치 신형 OLED 본체+타이틀 패키지\n",
      "삼성전자 갤럭시 갤럭시 버즈 프로\n",
      "마장동 한우선물세트 1등급 구이용 본갈비살 등심 살치살 국거리 모듬 소고기 명절 설 설날\n",
      "Apple 에어팟 에어팟 프로 MLWK3AM/A\n",
      "Apple 아이폰 13 미니 128GB [자급제]\n",
      "나이키 덩크로우 범고래 검흰 운동화 DD1391-100\n"
     ]
    }
   ],
   "source": [
    "import requests\n",
    "from bs4 import BeautifulSoup\n",
    "res = requests.get(\"https://search.shopping.naver.com/best/category/click?categoryCategoryId=ALL&categoryDemo=M02&categoryRootCategoryId=ALL&period=P1D\")\n",
    "soup = BeautifulSoup(res.content, 'html.parser') #\n",
    "df = soup.select('div.imageProduct_text_area__3T1Mo > div.imageProduct_title__3TsP1')\n",
    "for items in df:\n",
    "    print(items.get_text())"
   ]
  },
  {
   "cell_type": "code",
   "execution_count": 152,
   "id": "78732401",
   "metadata": {},
   "outputs": [],
   "source": [
    "import requests\n",
    "from bs4 import BeautifulSoup\n",
    "a = requests.get('https://list.tmall.com/search_product.htm?q=%BB%AF%D7%B1%C6%B7&type=p&spm=a220m.1000858.a2227oh.d100&from=.list.pc_1_searchbutton')\n",
    "b = BeautifulSoup(res.content, 'html.parser') #\n",
    "c = soup.select('div > p.productTitle > a')\n",
    "for d in c:\n",
    "    print(d.get_text())"
   ]
  },
  {
   "cell_type": "code",
   "execution_count": null,
   "id": "f449c405",
   "metadata": {},
   "outputs": [],
   "source": []
  }
 ],
 "metadata": {
  "kernelspec": {
   "display_name": "Python 3",
   "language": "python",
   "name": "python3"
  },
  "language_info": {
   "codemirror_mode": {
    "name": "ipython",
    "version": 3
   },
   "file_extension": ".py",
   "mimetype": "text/x-python",
   "name": "python",
   "nbconvert_exporter": "python",
   "pygments_lexer": "ipython3",
   "version": "3.8.8"
  }
 },
 "nbformat": 4,
 "nbformat_minor": 5
}
