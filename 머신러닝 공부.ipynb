{
 "cells": [
  {
   "cell_type": "markdown",
   "id": "ffd9dc65",
   "metadata": {},
   "source": [
    "Numpy ndarray 개요"
   ]
  },
  {
   "cell_type": "code",
   "execution_count": 1,
   "id": "1c4af196",
   "metadata": {},
   "outputs": [],
   "source": [
    "import numpy as np"
   ]
  },
  {
   "cell_type": "code",
   "execution_count": 2,
   "id": "89ee6f6b",
   "metadata": {},
   "outputs": [
    {
     "name": "stdout",
     "output_type": "stream",
     "text": [
      "list1: [1, 2, 3]\n",
      "list1 type: <class 'list'>\n",
      "arrat1: [1 2 3]\n",
      "array1 type: <class 'numpy.ndarray'>\n"
     ]
    }
   ],
   "source": [
    "list1 = [1,2,3]\n",
    "print(\"list1:\", list1)\n",
    "print(\"list1 type:\", type(list1))\n",
    "\n",
    "array1 =np.array(list1)\n",
    "print(\"arrat1:\", array1)\n",
    "print(\"array1 type:\", type(array1))"
   ]
  },
  {
   "cell_type": "code",
   "execution_count": 3,
   "id": "4c13e8f2",
   "metadata": {},
   "outputs": [
    {
     "name": "stdout",
     "output_type": "stream",
     "text": [
      "array1 type: <class 'numpy.ndarray'>\n",
      "array1 array 형태: (3,)\n",
      "array2 type: <class 'numpy.ndarray'>\n",
      "array2 array 형태: (2, 3)\n",
      "array3 type: <class 'numpy.ndarray'>\n",
      "array3 array 형태: (1, 3)\n"
     ]
    }
   ],
   "source": [
    "array1 = np.array([1,2,3])\n",
    "print('array1 type:',type(array1))\n",
    "print('array1 array 형태:', array1.shape)\n",
    "\n",
    "array2 = np.array([[1,2,3],[2,3,4]])\n",
    "print('array2 type:', type(array2))\n",
    "print('array2 array 형태:', array2.shape)\n",
    "\n",
    "array3 = np.array([[1,2,3]])\n",
    "print('array3 type:', type(array3))\n",
    "print('array3 array 형태:', array3.shape)\n"
   ]
  },
  {
   "cell_type": "code",
   "execution_count": 4,
   "id": "05a42d30",
   "metadata": {},
   "outputs": [
    {
     "name": "stdout",
     "output_type": "stream",
     "text": [
      "array1:1차원, array2:2차원, array3: 2차원\n"
     ]
    }
   ],
   "source": [
    "print('array1:{:0}차원, array2:{:1}차원, array3:{:2}차원'.format(array1.ndim, array2.ndim, array3.ndim))"
   ]
  },
  {
   "cell_type": "code",
   "execution_count": 5,
   "id": "dab6cabf",
   "metadata": {},
   "outputs": [
    {
     "name": "stdout",
     "output_type": "stream",
     "text": [
      "['1' '2' 'HAN DONG HUN'] <U12\n",
      "[1.  2.  5.7] float64\n"
     ]
    }
   ],
   "source": [
    "list2 = [1,2,'HAN DONG HUN']\n",
    "array2 = np.array(list2) #정수값이 더 큰 문자형 값으로 변형된다.\n",
    "print(array2, array2.dtype)\n",
    "\n",
    "list3 = [1,2,5.7]\n",
    "array3 = np.array(list3) #모두 실수 형태인 float으로 변형된다.\n",
    "print(array3, array3.dtype)"
   ]
  },
  {
   "cell_type": "code",
   "execution_count": 6,
   "id": "be56e308",
   "metadata": {},
   "outputs": [
    {
     "name": "stdout",
     "output_type": "stream",
     "text": [
      "[1. 2. 3.] float64\n",
      "[1 2 3] int32\n",
      "[1 2 3] int32\n"
     ]
    }
   ],
   "source": [
    "array_int = np.array([1,2,3])\n",
    "array_float = array_int.astype('float64') #변화시켜주고자 하는 데이터 타입을 'float64를 입력'\n",
    "print(array_float, array_float.dtype)\n",
    "\n",
    "array_int1 = array_float.astype('int32') #float형태를 다시 int형태로 바꾸어줘보자\n",
    "print(array_int1, array_int1.dtype)\n",
    "\n",
    "array_float1 = np.array([1.1,2.1,3.1])\n",
    "array_int2 = array_float.astype('int32')  #실수형태인데 int로 바꿔주라고 해서 바꿔졌네.. 신기하네..\n",
    "print(array_int2, array_int2.dtype)"
   ]
  },
  {
   "cell_type": "markdown",
   "id": "b6ddb022",
   "metadata": {},
   "source": [
    " * ndarray에서 axis 기반의 연산함수 수행"
   ]
  },
  {
   "cell_type": "code",
   "execution_count": 7,
   "id": "773ca739",
   "metadata": {},
   "outputs": [
    {
     "name": "stdout",
     "output_type": "stream",
     "text": [
      "15\n",
      "[3 5 7]\n",
      "[6 9]\n"
     ]
    }
   ],
   "source": [
    "array2 = np.array([[1,2,3],[2,3,4]])\n",
    "#[1,2,3]\n",
    "#[2,3,4]\n",
    "print(array2.sum())\n",
    "print(array2.sum(axis=0)) #세로인 열 방향\n",
    "print(array2.sum(axis=1)) #가로인 행 방향"
   ]
  },
  {
   "cell_type": "markdown",
   "id": "f9bc7cd3",
   "metadata": {},
   "source": [
    "* ndarray를 편리하게 생성하기 - arange, zeros, ones"
   ]
  },
  {
   "cell_type": "code",
   "execution_count": 8,
   "id": "0893621a",
   "metadata": {},
   "outputs": [
    {
     "name": "stdout",
     "output_type": "stream",
     "text": [
      "[0 1 2 3 4 5 6 7 8 9]\n",
      "int32 (10,)\n"
     ]
    }
   ],
   "source": [
    "sequence_array = np.arange(10)\n",
    "print(sequence_array)\n",
    "print(sequence_array.dtype, sequence_array.shape)"
   ]
  },
  {
   "cell_type": "code",
   "execution_count": 9,
   "id": "5f4d4e8e",
   "metadata": {},
   "outputs": [
    {
     "name": "stdout",
     "output_type": "stream",
     "text": [
      "[[0 0]\n",
      " [0 0]\n",
      " [0 0]]\n",
      "int32 (3, 2)\n",
      "[[1. 1.]\n",
      " [1. 1.]\n",
      " [1. 1.]]\n",
      "float64 (3, 2)\n"
     ]
    }
   ],
   "source": [
    "zero_array = np.zeros((3,2), dtype = 'int32')\n",
    "print(zero_array)\n",
    "print(zero_array.dtype, zero_array.shape)\n",
    "\n",
    "one_array = np.ones((3,2))\n",
    "print(one_array)\n",
    "print(one_array.dtype, one_array.shape)"
   ]
  },
  {
   "cell_type": "markdown",
   "id": "fb0528c4",
   "metadata": {},
   "source": [
    "* ndarray의 shape를 변경하는 reshape()"
   ]
  },
  {
   "cell_type": "code",
   "execution_count": 10,
   "id": "314de9c0",
   "metadata": {},
   "outputs": [
    {
     "name": "stdout",
     "output_type": "stream",
     "text": [
      "array1:\n",
      " [0 1 2 3 4 5 6 7 8 9]\n",
      "array2:\n",
      " [[0 1 2 3 4]\n",
      " [5 6 7 8 9]]\n",
      "array3:\n",
      " [[0 1]\n",
      " [2 3]\n",
      " [4 5]\n",
      " [6 7]\n",
      " [8 9]]\n"
     ]
    }
   ],
   "source": [
    "array1 = np.arange(10)\n",
    "print('array1:\\n', array1)\n",
    "\n",
    "array2 = array1.reshape(2,5)\n",
    "print('array2:\\n', array2)\n",
    "\n",
    "array3 = array1.reshape(5,2)\n",
    "print('array3:\\n', array3)"
   ]
  },
  {
   "cell_type": "code",
   "execution_count": 11,
   "id": "2e4012f2",
   "metadata": {},
   "outputs": [
    {
     "ename": "ValueError",
     "evalue": "cannot reshape array of size 10 into shape (4,3)",
     "output_type": "error",
     "traceback": [
      "\u001b[1;31m---------------------------------------------------------------------------\u001b[0m",
      "\u001b[1;31mValueError\u001b[0m                                Traceback (most recent call last)",
      "\u001b[1;32m<ipython-input-11-65515d98a1a9>\u001b[0m in \u001b[0;36m<module>\u001b[1;34m\u001b[0m\n\u001b[0;32m      1\u001b[0m \u001b[1;31m# 변환할 수 있는 shape구조를 입력하면 오류 발생\u001b[0m\u001b[1;33m\u001b[0m\u001b[1;33m\u001b[0m\u001b[1;33m\u001b[0m\u001b[0m\n\u001b[1;32m----> 2\u001b[1;33m \u001b[0marray1\u001b[0m\u001b[1;33m.\u001b[0m\u001b[0mreshape\u001b[0m\u001b[1;33m(\u001b[0m\u001b[1;36m4\u001b[0m\u001b[1;33m,\u001b[0m\u001b[1;36m3\u001b[0m\u001b[1;33m)\u001b[0m\u001b[1;33m\u001b[0m\u001b[1;33m\u001b[0m\u001b[0m\n\u001b[0m",
      "\u001b[1;31mValueError\u001b[0m: cannot reshape array of size 10 into shape (4,3)"
     ]
    }
   ],
   "source": [
    "# 변환할 수 있는 shape구조를 입력하면 오류 발생\n",
    "array1.reshape(4,3)"
   ]
  },
  {
   "cell_type": "raw",
   "id": "6b65c7ef",
   "metadata": {},
   "source": [
    "reshape()에 -1 인자값을 부여하는 특정 차원으로 고정된 가변적인 ndarray형태 변환"
   ]
  },
  {
   "cell_type": "code",
   "execution_count": null,
   "id": "c409296e",
   "metadata": {},
   "outputs": [],
   "source": [
    "array1 = np.arange(10)\n",
    "print(array1)\n",
    "\n",
    "#컬럼 axis크기는 5에 고정하고 로우 axis크기를 이에 맞춰 자동으로 변환, 즉 2x5형태로 변환\n",
    "array2 = array1.reshape(-1,5)\n",
    "print('array2 shape:', array2.shape)\n",
    "print('array2:\\n', array2)\n",
    "\n",
    "#로우 axis 크기는 5로 고정하고 컬럼 axis크기는 이에 맞춰 자동으로 변환, 즉 5x2 형태로 변환\n",
    "array3 = array1.reshape(5,-1)\n",
    "print('array3 shape:', array3.shape)\n",
    "print('array3:\\n', array3)"
   ]
  },
  {
   "cell_type": "code",
   "execution_count": null,
   "id": "db7a812e",
   "metadata": {},
   "outputs": [],
   "source": [
    "#reshape()는 (-1,1), (-1,)와 같은 형태로 주로 사용됨.\n",
    "#1차원 ndarray를 2차원으로 또는 2차원 ndarray를 1차원으로 변환 시 사용.\n",
    "array1 = np.arange(5)\n",
    "\n",
    "#1차원 ndarray를 2차원으로 변환하되, 컬럼 axis크기는 반드시 1이여야 함.\n",
    "array2d_1 = array1.reshape(-1,1)\n",
    "print(\"array2d_1 shape:\", array2d_1.shape)\n",
    "print(\"array2d_1:\\n\", array2d_1)\n",
    "\n",
    "#2차원 ndarray를 1차원으로 변환\n",
    "array1d = array2d_1.reshape(-1,)\n",
    "print(\"array1d shape:\", array1d.shape)\n",
    "print(\"array1d:\\n\", array1d)"
   ]
  },
  {
   "cell_type": "code",
   "execution_count": null,
   "id": "4b5e53d3",
   "metadata": {},
   "outputs": [],
   "source": [
    "# -1을 적용하여도 변환이 불가능한 형태로의 변환을 요구할 경우 오류 발생\n",
    "array1 = np.arange(10)\n",
    "array4 = array1.reshape(-1,4)"
   ]
  },
  {
   "cell_type": "code",
   "execution_count": null,
   "id": "690bdf76",
   "metadata": {},
   "outputs": [],
   "source": [
    "#반드시 -1값은 1개의 인자만 입력해야 함.\n",
    "array1.reshape(-1,-1)"
   ]
  },
  {
   "cell_type": "markdown",
   "id": "39d5dcef",
   "metadata": {},
   "source": [
    "ndarray의 데이터 세트 선택하기 = 인덱싱(indexing)"
   ]
  },
  {
   "cell_type": "markdown",
   "id": "66538472",
   "metadata": {},
   "source": [
    "특정 위치의 단일값 추출"
   ]
  },
  {
   "cell_type": "code",
   "execution_count": 13,
   "id": "b489cb3c",
   "metadata": {},
   "outputs": [
    {
     "name": "stdout",
     "output_type": "stream",
     "text": [
      "array1: [0 1 2 3 4 5 6 7 8 9]\n",
      "value: 2\n",
      "<class 'numpy.int32'>\n"
     ]
    }
   ],
   "source": [
    "#1에서 부터 9까지의 1차원 ndarray생성\n",
    "arra1 = np.arange(start=1, stop=10)\n",
    "print('array1:', array1)\n",
    "\n",
    "# index는 0부터 시작하므로 array1[2]는 3번쨰 index위치의 데이터 값을 의미\n",
    "value = array1[2]\n",
    "print('value:', value)\n",
    "print(type(value))"
   ]
  },
  {
   "cell_type": "code",
   "execution_count": 15,
   "id": "f75b7358",
   "metadata": {},
   "outputs": [
    {
     "name": "stdout",
     "output_type": "stream",
     "text": [
      "맨 두의 값: 9 ,맨 뒤에서 두번째 값: 8\n"
     ]
    }
   ],
   "source": [
    "print('맨 두의 값:', array1[-1], ',맨 뒤에서 두번째 값:', array1[-2])"
   ]
  },
  {
   "cell_type": "code",
   "execution_count": 16,
   "id": "fc1795fa",
   "metadata": {},
   "outputs": [
    {
     "name": "stdout",
     "output_type": "stream",
     "text": [
      "array1: [9 1 2 3 4 5 6 7 0 9]\n"
     ]
    }
   ],
   "source": [
    "array1[0] = 9\n",
    "array1[8] = 0\n",
    "print('array1:', array1)"
   ]
  },
  {
   "cell_type": "code",
   "execution_count": 17,
   "id": "112ac8ca",
   "metadata": {},
   "outputs": [
    {
     "name": "stdout",
     "output_type": "stream",
     "text": [
      "[[1 2 3]\n",
      " [4 5 6]\n",
      " [7 8 9]]\n",
      "(row=0, col=0) index 가리키는 값: 1\n",
      "(row=0, col=1) index 가리키는 값: 2\n",
      "(row=1, col=0) index 가리키는 값: 4\n",
      "(row=2, col=2) index 가리키는 값: 9\n"
     ]
    }
   ],
   "source": [
    "array1d = np.arange(start=1, stop=10)\n",
    "array2d = array1d.reshape(3,3)\n",
    "print(array2d)\n",
    "\n",
    "print('(row=0, col=0) index 가리키는 값:', array2d[0,0])\n",
    "print('(row=0, col=1) index 가리키는 값:', array2d[0,1])\n",
    "print('(row=1, col=0) index 가리키는 값:', array2d[1,0])\n",
    "print('(row=2, col=2) index 가리키는 값:', array2d[2,2])"
   ]
  },
  {
   "cell_type": "markdown",
   "id": "dc8519fe",
   "metadata": {},
   "source": [
    "* 슬라이싱(Slicing)"
   ]
  },
  {
   "cell_type": "code",
   "execution_count": 19,
   "id": "2b55f66d",
   "metadata": {},
   "outputs": [
    {
     "name": "stdout",
     "output_type": "stream",
     "text": [
      "[1 2 3 4 5 6 7 8 9]\n",
      "[1 2 3]\n",
      "<class 'numpy.ndarray'>\n"
     ]
    }
   ],
   "source": [
    "array1 = np.arange(start=1, stop =10)\n",
    "print(array1)\n",
    "array3 = array1[0:3]\n",
    "print(array3)\n",
    "print(type(array3))"
   ]
  },
  {
   "cell_type": "code",
   "execution_count": 20,
   "id": "c507b634",
   "metadata": {},
   "outputs": [
    {
     "name": "stdout",
     "output_type": "stream",
     "text": [
      "[1 2 3]\n",
      "[4 5 6 7 8 9]\n",
      "[1 2 3 4 5 6 7 8 9]\n"
     ]
    }
   ],
   "source": [
    "array1 = np.arange(start=1, stop=10)\n",
    "array4 = array1[:3]\n",
    "print(array4)\n",
    "\n",
    "array5 = array1[3:]\n",
    "print(array5)\n",
    "\n",
    "array6 = array1[:]\n",
    "print(array6)"
   ]
  },
  {
   "cell_type": "code",
   "execution_count": 21,
   "id": "4ddd2928",
   "metadata": {},
   "outputs": [
    {
     "name": "stdout",
     "output_type": "stream",
     "text": [
      "array2d:\n",
      " [[1 2 3]\n",
      " [4 5 6]\n",
      " [7 8 9]]\n",
      "array2d[0:2, 0:2] \n",
      " [[1 2]\n",
      " [4 5]]\n",
      "array2d[1:3, 0:3] \n",
      " [[4 5 6]\n",
      " [7 8 9]]\n",
      "array2d[1:3, :] \n",
      " [[4 5 6]\n",
      " [7 8 9]]\n",
      "array2d[:, :] \n",
      " [[1 2 3]\n",
      " [4 5 6]\n",
      " [7 8 9]]\n",
      "array2d[:2, 1:] \n",
      " [[2 3]\n",
      " [5 6]]\n",
      "array2d[:2, 0] \n",
      " [1 4]\n"
     ]
    }
   ],
   "source": [
    "array1d = np.arange(start=1, stop=10)\n",
    "array2d = array1d.reshape(3,3)\n",
    "print('array2d:\\n', array2d)\n",
    "\n",
    "print('array2d[0:2, 0:2] \\n', array2d[0:2, 0:2])\n",
    "print('array2d[1:3, 0:3] \\n', array2d[1:3, 0:3])\n",
    "print('array2d[1:3, :] \\n', array2d[1:3, :])\n",
    "print('array2d[:, :] \\n', array2d[:, :])\n",
    "print('array2d[:2, 1:] \\n', array2d[:2, 1:])\n",
    "print('array2d[:2, 0] \\n', array2d[:2, 0])"
   ]
  },
  {
   "cell_type": "markdown",
   "id": "c07399c4",
   "metadata": {},
   "source": [
    "*팬시 인덱싱(fancy indexing)"
   ]
  },
  {
   "cell_type": "code",
   "execution_count": 22,
   "id": "5a2f26a4",
   "metadata": {},
   "outputs": [
    {
     "name": "stdout",
     "output_type": "stream",
     "text": [
      "[[1 2 3]\n",
      " [4 5 6]\n",
      " [7 8 9]]\n",
      "array2d[[0,1],2] => [3, 6]\n",
      "array2d[[0,2], 0:2] =>  [[1, 2], [7, 8]]\n",
      "array2d[[0,1]] =>  [[1, 2, 3], [4, 5, 6]]\n"
     ]
    }
   ],
   "source": [
    "array1d = np.arange(start=1, stop=10)\n",
    "array2d = array1d.reshape(3,3)\n",
    "print(array2d)\n",
    "\n",
    "array3 = array2d[[0,1], 2]\n",
    "print('array2d[[0,1],2] =>', array3.tolist())\n",
    "\n",
    "array4 = array2d[[0,2],0:2]\n",
    "print('array2d[[0,2], 0:2] => ', array4.tolist())\n",
    "\n",
    "array5 = array2d[[0,1]]\n",
    "print('array2d[[0,1]] => ' , array5.tolist())"
   ]
  },
  {
   "cell_type": "markdown",
   "id": "ea8cb2c8",
   "metadata": {},
   "source": [
    "* 불린 인덱싱(Boolean indexing)"
   ]
  },
  {
   "cell_type": "code",
   "execution_count": 23,
   "id": "02ce17d4",
   "metadata": {},
   "outputs": [
    {
     "name": "stdout",
     "output_type": "stream",
     "text": [
      "[1 2 3 4 5 6 7 8 9]\n"
     ]
    }
   ],
   "source": [
    "array1d = np.arange(start=1, stop=10)\n",
    "print(array1d)"
   ]
  },
  {
   "cell_type": "code",
   "execution_count": 24,
   "id": "c8343160",
   "metadata": {},
   "outputs": [
    {
     "name": "stdout",
     "output_type": "stream",
     "text": [
      "[False False False False False  True  True  True  True]\n",
      "var1: [False False False False False  True  True  True  True]\n",
      "<class 'numpy.ndarray'>\n"
     ]
    }
   ],
   "source": [
    "print(array1d > 5)\n",
    "\n",
    "var1 = array1d > 5\n",
    "print(\"var1:\", var1)\n",
    "print(type(var1))"
   ]
  },
  {
   "cell_type": "code",
   "execution_count": 25,
   "id": "7facc973",
   "metadata": {},
   "outputs": [
    {
     "name": "stdout",
     "output_type": "stream",
     "text": [
      "[1 2 3 4 5 6 7 8 9]\n",
      "array1d > 5 Boolean indexing 결과 값: [6 7 8 9]\n"
     ]
    }
   ],
   "source": [
    "# [ ] 안에 array1d > 5 Boolean indexing을 적용\n",
    "print(array1d)\n",
    "array3 = array1d[array1d > 5]\n",
    "print('array1d > 5 Boolean indexing 결과 값:', array3)"
   ]
  },
  {
   "cell_type": "code",
   "execution_count": 27,
   "id": "287d1c04",
   "metadata": {},
   "outputs": [
    {
     "name": "stdout",
     "output_type": "stream",
     "text": [
      "boolean indexing 결과 : [6 7 8 9]\n"
     ]
    }
   ],
   "source": [
    "boolean_indexes = np.array([False,False,False,False,False,True,True,True,True])\n",
    "array3 = array1d[boolean_indexes] #True값만 저장된다!!!!!!!!!!!!!!!!!!!!!!!!!!!!!!!!!!!!!!!\n",
    "print('boolean indexing 결과 :', array3)"
   ]
  },
  {
   "cell_type": "code",
   "execution_count": 28,
   "id": "5a625869",
   "metadata": {},
   "outputs": [
    {
     "name": "stdout",
     "output_type": "stream",
     "text": [
      "일반 인덱스로 필터링 결과 : [6 7 8 9]\n"
     ]
    }
   ],
   "source": [
    "indexes = np.array([5,6,7,8])\n",
    "array4 = array1d[ indexes ]\n",
    "print('일반 인덱스로 필터링 결과 :', array4)"
   ]
  },
  {
   "cell_type": "code",
   "execution_count": 29,
   "id": "5c42bf8b",
   "metadata": {},
   "outputs": [
    {
     "name": "stdout",
     "output_type": "stream",
     "text": [
      "[6 7 8 9]\n"
     ]
    }
   ],
   "source": [
    "array1d = np.arange(start=1, stop=10)\n",
    "target = []\n",
    "\n",
    "for i in range(0,9):\n",
    "    if array1d[i] > 5:\n",
    "        target.append(array1d[i])\n",
    "array_selected = np.array(target)\n",
    "print(array_selected)"
   ]
  },
  {
   "cell_type": "code",
   "execution_count": 30,
   "id": "dc015a61",
   "metadata": {},
   "outputs": [
    {
     "name": "stdout",
     "output_type": "stream",
     "text": [
      "[6 7 8 9]\n"
     ]
    }
   ],
   "source": [
    "print(array1d[array1 > 5])"
   ]
  },
  {
   "cell_type": "markdown",
   "id": "d2d4dda4",
   "metadata": {},
   "source": [
    "* np.srot() : 원 행렬은 그대로 유지한 채 원 행렬의 정렬된 행렬을 반환\n",
    "* ndarray.sort() : 원 행렬 자체를 정렬한 형태로 변환하며 반환 값은 None\n",
    "    np.sort()나 ndarray.sort()모두 기본적으로 오름차순으로 행렬 내 원소를 정렬합니다. 내림차순으로 정렬하기 위해서는 [::-1]을 적용합니다.\n",
    "    np.sort()[::-1]과 같이 사용하면 됩니다.\n",
    "* argsort() : 원본 행렬 정렬 시 정렬된 행렬의 원래 인덱스를 필요로 할 떄 np.argsort()를 이용합니다. np.argsort()는 정렬 행렬의 원본 행렬 인덱스를 ndarray형으로 반환합니다. (행렬의 값의 크기에 따라 정렬되고, 그에 맞게 인덱스가 반환됨)"
   ]
  },
  {
   "cell_type": "markdown",
   "id": "043a754e",
   "metadata": {},
   "source": [
    "*행렬의 정렬 - sort()와 argsort()"
   ]
  },
  {
   "cell_type": "code",
   "execution_count": 32,
   "id": "b0cdf207",
   "metadata": {},
   "outputs": [
    {
     "name": "stdout",
     "output_type": "stream",
     "text": [
      "원본 행렬: [3 1 9 5]\n",
      "np.sort( ) 호출 후 반환된 정렬 행렬: [1 3 5 9]\n",
      "np.sort( ) 호출 후 원본 행렬: [3 1 9 5]\n",
      "org_array.sort( ) 호출 후 반환된 행렬: None\n",
      "org_array.sort( ) 호출 후 원본 행렬: [1 3 5 9]\n"
     ]
    }
   ],
   "source": [
    "org_array = np.array([3,1,9,5])\n",
    "print('원본 행렬:', org_array)\n",
    "\n",
    "#np.sort()로 정렬\n",
    "sort_array1 = np.sort(org_array)\n",
    "print('np.sort( ) 호출 후 반환된 정렬 행렬:', sort_array1)\n",
    "print('np.sort( ) 호출 후 원본 행렬:', org_array)\n",
    "\n",
    "#ndarray.sort( ) 로 정렬\n",
    "sort_array2 = org_array.sort()\n",
    "org_array.sort()\n",
    "print('org_array.sort( ) 호출 후 반환된 행렬:', sort_array2)\n",
    "print('org_array.sort( ) 호출 후 원본 행렬:', org_array)"
   ]
  },
  {
   "cell_type": "code",
   "execution_count": 34,
   "id": "63def7fc",
   "metadata": {},
   "outputs": [
    {
     "name": "stdout",
     "output_type": "stream",
     "text": [
      "내림차순으로 정렬: [9 5 3 1]\n"
     ]
    }
   ],
   "source": [
    "sort_array1_desc = np.sort(org_array)[::-1]\n",
    "print('내림차순으로 정렬:', sort_array1_desc)"
   ]
  },
  {
   "cell_type": "code",
   "execution_count": 35,
   "id": "23370826",
   "metadata": {},
   "outputs": [
    {
     "name": "stdout",
     "output_type": "stream",
     "text": [
      "로우 방향으로 정렬:\n",
      " [[ 7  1]\n",
      " [ 8 12]]\n",
      "컬럼 방향으로 정렬:\n",
      " [[ 8 12]\n",
      " [ 1  7]]\n"
     ]
    }
   ],
   "source": [
    "array2d = np.array([[8,12],\n",
    "                   [7,1]])\n",
    "sort_array2d_axis0 = np.sort(array2d, axis=0)\n",
    "print('로우 방향으로 정렬:\\n', sort_array2d_axis0)\n",
    "\n",
    "sort_array2d_axis1 = np.sort(array2d, axis =1)\n",
    "print('컬럼 방향으로 정렬:\\n', sort_array2d_axis1)"
   ]
  },
  {
   "cell_type": "markdown",
   "id": "0201c588",
   "metadata": {},
   "source": [
    "* argsort"
   ]
  },
  {
   "cell_type": "code",
   "execution_count": 36,
   "id": "4fcaf680",
   "metadata": {},
   "outputs": [
    {
     "name": "stdout",
     "output_type": "stream",
     "text": [
      "[1 3 5 9]\n",
      "<class 'numpy.ndarray'>\n",
      "행렬 정렬 시 원본 행렬의 인덱스: [1 0 3 2]\n"
     ]
    }
   ],
   "source": [
    "org_array = np.array([3,1,9,5])\n",
    "print(np.sort(org_array))\n",
    "\n",
    "sort_indices = np.argsort(org_array)\n",
    "print(type(sort_indices))\n",
    "print('행렬 정렬 시 원본 행렬의 인덱스:', sort_indices)"
   ]
  },
  {
   "cell_type": "code",
   "execution_count": 37,
   "id": "b36e1de3",
   "metadata": {},
   "outputs": [
    {
     "name": "stdout",
     "output_type": "stream",
     "text": [
      "[9 5 3 1]\n",
      "행렬 내림차순 정렬 시 원본 행렬의 인덱스: [2 3 0 1]\n"
     ]
    }
   ],
   "source": [
    "org_array = np.array([3,1,9,5])\n",
    "print(np.sort(org_array)[::-1])\n",
    "\n",
    "sort_indices_desc = np.argsort(org_array)[::-1]\n",
    "print('행렬 내림차순 정렬 시 원본 행렬의 인덱스:', sort_indices_desc)"
   ]
  },
  {
   "cell_type": "markdown",
   "id": "32240c22",
   "metadata": {},
   "source": [
    "* key_value 형태의 데이터를 John=78, Mike=95, Sarah=84, Kate=98, Samuel=88, ndarray로 만들고 argsort()를 이용하여 key값을 정렬"
   ]
  },
  {
   "cell_type": "code",
   "execution_count": 39,
   "id": "edb1c3cc",
   "metadata": {},
   "outputs": [
    {
     "name": "stdout",
     "output_type": "stream",
     "text": [
      "sort indices: [0 2 4 1 3]\n",
      "['John' 'Sarah' 'Samuel' 'Mike' 'Kate']\n",
      "[78 84 88 95 98]\n"
     ]
    }
   ],
   "source": [
    "name_array=np.array(['John','Mike','Sarah','Kate','Samuel'])\n",
    "score_array=np.array([78,95,84,98,88])\n",
    "\n",
    "#score_array의 정렬된 값에 해당하는 원본 행렬 위치 인덱스 반환하고 이를 이용하여 name_array에서 name값 추출.\n",
    "sort_indices = np.argsort(score_array)\n",
    "print(\"sort indices:\", sort_indices)\n",
    "\n",
    "name_array_sort = name_array[sort_indices]\n",
    "\n",
    "score_array_sort = score_array[sort_indices]\n",
    "print(name_array_sort)\n",
    "print(score_array_sort)"
   ]
  },
  {
   "cell_type": "markdown",
   "id": "1b0b7357",
   "metadata": {},
   "source": [
    "# 선형대수 연산 - 행렬 내적과 전치 행렬 구하기"
   ]
  },
  {
   "cell_type": "markdown",
   "id": "80a0444d",
   "metadata": {},
   "source": [
    "* 행렬 내적"
   ]
  },
  {
   "cell_type": "code",
   "execution_count": 40,
   "id": "066f5135",
   "metadata": {},
   "outputs": [
    {
     "name": "stdout",
     "output_type": "stream",
     "text": [
      "행렬 내적 결과:\n",
      " [[ 58  64]\n",
      " [139 154]]\n"
     ]
    }
   ],
   "source": [
    "A = np.array([[1,2,3],\n",
    "             [4,5,6]])\n",
    "B = np.array([[7,8,],\n",
    "             [9,10],\n",
    "             [11,12]])\n",
    "dot_product = np.dot(A,B) #선형대수 기본값 결과 값 구하는 함수 np.dot(a,b)\n",
    "print('행렬 내적 결과:\\n', dot_product)"
   ]
  },
  {
   "cell_type": "markdown",
   "id": "e454d175",
   "metadata": {},
   "source": [
    "* 전치 행렬"
   ]
  },
  {
   "cell_type": "code",
   "execution_count": 41,
   "id": "a17e30a4",
   "metadata": {},
   "outputs": [
    {
     "name": "stdout",
     "output_type": "stream",
     "text": [
      "A의 전치 행렬:\n",
      " [[1 3]\n",
      " [2 4]]\n"
     ]
    }
   ],
   "source": [
    "A = np.array([[1,2,],\n",
    "             [3,4]])\n",
    "transpose_mat = np.transpose(A)\n",
    "print('A의 전치 행렬:\\n', transpose_mat)"
   ]
  },
  {
   "cell_type": "code",
   "execution_count": null,
   "id": "12286de5",
   "metadata": {},
   "outputs": [],
   "source": []
  }
 ],
 "metadata": {
  "kernelspec": {
   "display_name": "Python 3",
   "language": "python",
   "name": "python3"
  },
  "language_info": {
   "codemirror_mode": {
    "name": "ipython",
    "version": 3
   },
   "file_extension": ".py",
   "mimetype": "text/x-python",
   "name": "python",
   "nbconvert_exporter": "python",
   "pygments_lexer": "ipython3",
   "version": "3.8.8"
  }
 },
 "nbformat": 4,
 "nbformat_minor": 5
}
