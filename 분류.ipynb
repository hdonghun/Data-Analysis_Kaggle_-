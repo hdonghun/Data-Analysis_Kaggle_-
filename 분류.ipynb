{
 "cells": [
  {
   "cell_type": "markdown",
   "id": "6c3b7eae",
   "metadata": {},
   "source": [
    "### 분류 알고리즘"
   ]
  },
  {
   "cell_type": "markdown",
   "id": "9426ded5",
   "metadata": {},
   "source": [
    "분류(Classification)는 학습 데이터로 주어진 데이터의 피처와 레이블 값(결정 값, 클래스 값)을 머신러닝 알고리즘으로 학습해 모델을 생성하고, 이렇게 생성된 모델에 새로운 데이터 값이 주어졌을 떄 미지의 레이블 값을 예측하는 것입니다."
   ]
  },
  {
   "cell_type": "markdown",
   "id": "eb8e5fe3",
   "metadata": {},
   "source": [
    "### 대표적인 분류 알고리즘들"
   ]
  },
  {
   "cell_type": "markdown",
   "id": "6b33ca7a",
   "metadata": {},
   "source": [
    "* 베이즈(Bayes) 통계와 생성 모델에 기반한 나이브 베이즈(Naive Bayes)\n",
    "* 독립변수와 종속변수의 선형 관계성에 기반한 로지스틱 회귀(Logistic Regression)\n",
    "* 데이터 균일도에 따른 규칙 기반의 결정 트리(Decision Tree)\n",
    "* 개별 클래스 간의 최대 분류 마진을 효과적으로 찾아주는 서포트 벡터 머신(Support Vector Machine)\n",
    "* 근접 거리를 기준으로 하는 최소 근접(Nearest Neighbor) 알고리즘\n",
    "* 심층 연결 기반의 신경망(Neural Network)\n",
    "* 서로 다른(또는 같은) 머신러닝 알고리즘을 결합한 앙상블(Ensemble)"
   ]
  },
  {
   "cell_type": "markdown",
   "id": "b6393ab1",
   "metadata": {},
   "source": [
    "### 결정 트리와 앙상블"
   ]
  },
  {
   "cell_type": "markdown",
   "id": "707b0a97",
   "metadata": {},
   "source": [
    "* 결정 트리는 매우 쉽고 유연하게 적용될 수 있는 알고리즘입니다. 또한 데이터의 스케일링이나 정규화 등의 사전 가공의 영향이 매우 적습니다. 하지만 예측 성능을 향상시키기 위해 복잡한 규칙 구조를 가져야 하며, 이로 인한 과적합(overfitting)이 발생해 반대로 예측 성능이 저하될 수도 있다는 단점이 있습니다.\n",
    "* 하지만 이러한 단점이 앙상블 기법에서는 오히려 장점으로 작용합니다. 앙상블은 매우 많은 여러 개의 약한 학습기(즉, 예측 성능이 상대적으로 떨어지는 학습 알고리즘)를 결합해 확률적 보완과 오류가 발생한 부분에 대한 가중치를 계속 업데이트하면서 예측 성능을 향상시키는데, 결정 트리가 좋은 약한 학습기가 되기 때문입니다.(GBM, XGBoost, LightGBM등)"
   ]
  },
  {
   "cell_type": "markdown",
   "id": "dcc4bb1d",
   "metadata": {},
   "source": [
    "## 결정 트리\n",
    "* 결정 트리 알고리즘은 데이터에 있는 규칙을 학습을 통해 자동으로 찾아내 트리(Tree) 기반의 분류 규칙을 만듭니다(If-Else 기반 규칙)\n",
    "* 따라서 데이터의 어떤 기준을 바탕으로 규칙을 만들어야 가장 효율적인 분류가 될 것인가가 알고리즘의 성능을 크게 좌우합니다,"
   ]
  },
  {
   "cell_type": "markdown",
   "id": "e229d848",
   "metadata": {},
   "source": [
    "### 정보이득"
   ]
  },
  {
   "cell_type": "markdown",
   "id": "248a3969",
   "metadata": {},
   "source": [
    "* 정보 이득은 엔트로피라는 개념을 기반으로 합니다. 정보 이득 지수는 1에서 엔트로피 지수를 뺀 값입니다. 즉, 1-엔트로피 지수입니다. 결정 트리는 이 정보 이득 지수를 분할 기준을 정합니다. 즉, 정보 이득이 높은 속성을 기준으로 분할합니다."
   ]
  },
  {
   "cell_type": "markdown",
   "id": "c9186f6c",
   "metadata": {},
   "source": [
    "### 지니 계수"
   ]
  },
  {
   "cell_type": "markdown",
   "id": "75e3716e",
   "metadata": {},
   "source": [
    "* 0이 가장 평등하고 1로 갈수록 불평등 합니다. 머신러닝에 적용될 떄는 지니 계수가 낮을 수록 데이터 균일도가 높은 것으로 해석되어 계수가 낮은 속성을 기준으로 분할 합니다."
   ]
  },
  {
   "cell_type": "code",
   "execution_count": null,
   "id": "50f2dca5",
   "metadata": {},
   "outputs": [],
   "source": []
  }
 ],
 "metadata": {
  "kernelspec": {
   "display_name": "Python 3",
   "language": "python",
   "name": "python3"
  },
  "language_info": {
   "codemirror_mode": {
    "name": "ipython",
    "version": 3
   },
   "file_extension": ".py",
   "mimetype": "text/x-python",
   "name": "python",
   "nbconvert_exporter": "python",
   "pygments_lexer": "ipython3",
   "version": "3.8.8"
  }
 },
 "nbformat": 4,
 "nbformat_minor": 5
}
