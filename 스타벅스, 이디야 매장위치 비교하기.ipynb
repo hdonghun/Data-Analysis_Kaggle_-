{
 "cells": [
  {
   "cell_type": "markdown",
   "id": "f845e27d",
   "metadata": {},
   "source": [
    "이디야는 스타벅스 근처에 입점한다는 설이 있습니다. 과연 이디야와 스타벅스의 매장입지는 얼마나 차이가 날까요? 과련 기사를 읽고 구별로 이디야와 스타벅스의 매장을 기사와 유사하게 분석하고 시각화 해보면서 Python, Pandas, Numpy, Seaborn, Matplotlib, folium을 통해 다양한 방법으로 표현해 봅니다."
   ]
  },
  {
   "cell_type": "markdown",
   "id": "32844c4d",
   "metadata": {},
   "source": [
    "관련기사\n",
    "[비즈&빅데이터]스타벅스 '쏠림' vs 이디야 '분산'"
   ]
  },
  {
   "cell_type": "code",
   "execution_count": 1,
   "id": "b0787b8e",
   "metadata": {},
   "outputs": [],
   "source": [
    "import pandas as pd\n",
    "import numpy as np\n",
    "import seaborn as sns\n",
    "\n",
    "#구버전의 주피터 노트북에서 그래프가 보이는 설정\n",
    "%matplotlib inline"
   ]
  },
  {
   "cell_type": "code",
   "execution_count": 2,
   "id": "cff829ac",
   "metadata": {},
   "outputs": [
    {
     "data": {
      "text/plain": [
       "<AxesSubplot:>"
      ]
     },
     "execution_count": 2,
     "metadata": {},
     "output_type": "execute_result"
    },
    {
     "data": {
      "image/png": "[encoded data removed]",
      "text/plain": [
       "<Figure size 432x288 with 1 Axes>"
      ]
     },
     "metadata": {
      "needs_background": "light"
     },
     "output_type": "display_data"
    }
   ],
   "source": [
    "#한글폰트 설정\n",
    "#폰트가 선명하게 보이도록 retina설정\n",
    "#한글폰트와 마이너스 폰트 설정 확인\n",
    "\n",
    "pd.Series([-1,-0,1,3,5]).plot()"
   ]
  },
  {
   "cell_type": "code",
   "execution_count": null,
   "id": "78d3e08a",
   "metadata": {},
   "outputs": [],
   "source": []
  }
 ],
 "metadata": {
  "kernelspec": {
   "display_name": "Python 3",
   "language": "python",
   "name": "python3"
  },
  "language_info": {
   "codemirror_mode": {
    "name": "ipython",
    "version": 3
   },
   "file_extension": ".py",
   "mimetype": "text/x-python",
   "name": "python",
   "nbconvert_exporter": "python",
   "pygments_lexer": "ipython3",
   "version": "3.8.8"
  }
 },
 "nbformat": 4,
 "nbformat_minor": 5
}
