{
 "cells": [
  {
   "cell_type": "code",
   "execution_count": 9,
   "id": "be9ec54c",
   "metadata": {},
   "outputs": [],
   "source": [
    "import pandas as pd"
   ]
  },
  {
   "cell_type": "markdown",
   "id": "e3106a40",
   "metadata": {},
   "source": [
    "시리즈"
   ]
  },
  {
   "cell_type": "code",
   "execution_count": 2,
   "id": "40e3d6a2",
   "metadata": {},
   "outputs": [],
   "source": [
    "dict_data = {'a':1,'b':2,'c':3,'d':4}"
   ]
  },
  {
   "cell_type": "code",
   "execution_count": 13,
   "id": "88c1550a",
   "metadata": {},
   "outputs": [
    {
     "name": "stdout",
     "output_type": "stream",
     "text": [
      "<class 'pandas.core.series.Series'>\n",
      "c0       [1, 2, 3]\n",
      "c1       [4, 5, 6]\n",
      "c2       [7, 8, 9]\n",
      "c3    [10, 11, 12]\n",
      "c4    [13, 14, 15]\n",
      "dtype: object\n"
     ]
    }
   ],
   "source": [
    "sr = pd.Series(dict_data)\n",
    "print(type(sr))\n",
    "print(sr)"
   ]
  },
  {
   "cell_type": "markdown",
   "id": "2506f714",
   "metadata": {},
   "source": [
    "데이터프레임"
   ]
  },
  {
   "cell_type": "code",
   "execution_count": 10,
   "id": "fbc3d101",
   "metadata": {},
   "outputs": [],
   "source": [
    "import pandas as pd\n",
    "dict_data = {'c0':[1,2,3], 'c1':[4,5,6], 'c2':[7,8,9], 'c3':[10,11,12], 'c4':[13,14,15]}\n",
    "df = pd.DataFrame(dict_data)"
   ]
  },
  {
   "cell_type": "code",
   "execution_count": 11,
   "id": "99b02fb9",
   "metadata": {},
   "outputs": [
    {
     "name": "stdout",
     "output_type": "stream",
     "text": [
      "<class 'pandas.core.frame.DataFrame'>\n",
      "   c0  c1  c2  c3  c4\n",
      "0   1   4   7  10  13\n",
      "1   2   5   8  11  14\n",
      "2   3   6   9  12  15\n"
     ]
    }
   ],
   "source": [
    "print(type(df))\n",
    "print(df)"
   ]
  },
  {
   "cell_type": "code",
   "execution_count": 38,
   "id": "73a1070d",
   "metadata": {},
   "outputs": [
    {
     "name": "stdout",
     "output_type": "stream",
     "text": [
      "     나이 성별   학교\n",
      "김영인  15  남  덕영중\n",
      "한동훈  17  여  탄방중\n",
      "\n",
      "\n",
      "Index(['김영인', '한동훈'], dtype='object')\n",
      "\n",
      "\n",
      "Index(['나이', '성별', '학교'], dtype='object')\n",
      "\n",
      "\n",
      "컬럼 인덱스 변경후\n",
      "\n",
      "\n",
      "     연령 남녀   소속\n",
      "학생1  15  남  덕영중\n",
      "학생2  17  여  탄방중\n",
      "=========================\n",
      "\n",
      "\n",
      "rename 메소드 사용하기\n",
      "     연령 남녀   소속\n",
      "학생1  15  남  덕영중\n",
      "학생2  17  여  탄방중\n",
      "\n",
      "\n",
      "     나이 성별 학교이름\n",
      "학생1  15  남  덕영중\n",
      "학생2  17  여  탄방중\n"
     ]
    },
    {
     "data": {
      "text/html": [
       "<div>\n",
       "<style scoped>\n",
       "    .dataframe tbody tr th:only-of-type {\n",
       "        vertical-align: middle;\n",
       "    }\n",
       "\n",
       "    .dataframe tbody tr th {\n",
       "        vertical-align: top;\n",
       "    }\n",
       "\n",
       "    .dataframe thead th {\n",
       "        text-align: right;\n",
       "    }\n",
       "</style>\n",
       "<table border=\"1\" class=\"dataframe\">\n",
       "  <thead>\n",
       "    <tr style=\"text-align: right;\">\n",
       "      <th></th>\n",
       "      <th>나이</th>\n",
       "      <th>성별</th>\n",
       "      <th>학교이름</th>\n",
       "    </tr>\n",
       "  </thead>\n",
       "  <tbody>\n",
       "    <tr>\n",
       "      <th>학생1</th>\n",
       "      <td>15</td>\n",
       "      <td>남</td>\n",
       "      <td>덕영중</td>\n",
       "    </tr>\n",
       "    <tr>\n",
       "      <th>학생2</th>\n",
       "      <td>17</td>\n",
       "      <td>여</td>\n",
       "      <td>탄방중</td>\n",
       "    </tr>\n",
       "  </tbody>\n",
       "</table>\n",
       "</div>"
      ],
      "text/plain": [
       "     나이 성별 학교이름\n",
       "학생1  15  남  덕영중\n",
       "학생2  17  여  탄방중"
      ]
     },
     "execution_count": 38,
     "metadata": {},
     "output_type": "execute_result"
    }
   ],
   "source": [
    "import pandas as pd\n",
    "df = pd.DataFrame([[15,'남','덕영중'], [17,'여','탄방중']], \n",
    "                 index = ['김영인', '한동훈'],\n",
    "                 columns = ['나이', '성별', '학교'])\n",
    "print(df)\n",
    "print('\\n')\n",
    "print(df.index)\n",
    "print('\\n')\n",
    "print(df.columns)\n",
    "df.index = ['학생1', '학생2']\n",
    "df.columns = ['연령','남녀','소속']\n",
    "print('\\n')\n",
    "print('컬럼 인덱스 변경후')\n",
    "print('\\n')\n",
    "print(df)\n",
    "print('=========================')\n",
    "print('\\n')\n",
    "# rename 메소드 사용하기\n",
    "print('rename 메소드 사용하기')\n",
    "print(df)\n",
    "print('\\n')\n",
    "# rename 사용 후\n",
    "df.rename(columns={'연령':'나이', '남녀':'성별', '소속':'학교이름'}, inplace = True)\n",
    "df.rename(index={'학생1':'김영인', '학생2':'한동훈'})\n",
    "print(df)\n",
    "\n",
    "df"
   ]
  },
  {
   "cell_type": "code",
   "execution_count": 50,
   "id": "63365702",
   "metadata": {},
   "outputs": [
    {
     "name": "stdout",
     "output_type": "stream",
     "text": [
      "    수학  영어  음악   체육\n",
      "서준  90  98  99  100\n",
      "동훈  80  89  88   95\n",
      "영인  70  95  77   90\n",
      "\n",
      "\n",
      "    수학  영어  음악   체육\n",
      "서준  90  98  99  100\n",
      "영인  70  95  77   90\n",
      "\n",
      "\n",
      "    수학  영어  음악   체육\n",
      "서준  90  98  99  100\n",
      "\n",
      "\n",
      "    수학  영어  음악   체육\n",
      "서준  90  98  99  100\n",
      "동훈  80  89  88   95\n",
      "영인  70  95  77   90\n",
      "\n",
      "\n"
     ]
    },
    {
     "name": "stderr",
     "output_type": "stream",
     "text": [
      "C:\\Users\\toyou\\anaconda3\\lib\\site-packages\\pandas\\core\\frame.py:4308: SettingWithCopyWarning: \n",
      "A value is trying to be set on a copy of a slice from a DataFrame\n",
      "\n",
      "See the caveats in the documentation: https://pandas.pydata.org/pandas-docs/stable/user_guide/indexing.html#returning-a-view-versus-a-copy\n",
      "  return super().drop(\n",
      "C:\\Users\\toyou\\anaconda3\\lib\\site-packages\\pandas\\core\\frame.py:4308: SettingWithCopyWarning: \n",
      "A value is trying to be set on a copy of a slice from a DataFrame\n",
      "\n",
      "See the caveats in the documentation: https://pandas.pydata.org/pandas-docs/stable/user_guide/indexing.html#returning-a-view-versus-a-copy\n",
      "  return super().drop(\n"
     ]
    },
    {
     "data": {
      "text/html": [
       "<div>\n",
       "<style scoped>\n",
       "    .dataframe tbody tr th:only-of-type {\n",
       "        vertical-align: middle;\n",
       "    }\n",
       "\n",
       "    .dataframe tbody tr th {\n",
       "        vertical-align: top;\n",
       "    }\n",
       "\n",
       "    .dataframe thead th {\n",
       "        text-align: right;\n",
       "    }\n",
       "</style>\n",
       "<table border=\"1\" class=\"dataframe\">\n",
       "  <thead>\n",
       "    <tr style=\"text-align: right;\">\n",
       "      <th></th>\n",
       "      <th>영어</th>\n",
       "      <th>음악</th>\n",
       "      <th>체육</th>\n",
       "    </tr>\n",
       "  </thead>\n",
       "  <tbody>\n",
       "    <tr>\n",
       "      <th>서준</th>\n",
       "      <td>98</td>\n",
       "      <td>99</td>\n",
       "      <td>100</td>\n",
       "    </tr>\n",
       "    <tr>\n",
       "      <th>동훈</th>\n",
       "      <td>89</td>\n",
       "      <td>88</td>\n",
       "      <td>95</td>\n",
       "    </tr>\n",
       "    <tr>\n",
       "      <th>영인</th>\n",
       "      <td>95</td>\n",
       "      <td>77</td>\n",
       "      <td>90</td>\n",
       "    </tr>\n",
       "  </tbody>\n",
       "</table>\n",
       "</div>"
      ],
      "text/plain": [
       "    영어  음악   체육\n",
       "서준  98  99  100\n",
       "동훈  89  88   95\n",
       "영인  95  77   90"
      ]
     },
     "execution_count": 50,
     "metadata": {},
     "output_type": "execute_result"
    }
   ],
   "source": [
    "# drop 메소드 사용하기\n",
    "import pandas as pd\n",
    "exam_data = {'수학':[90,80,70], '영어':[98,89,95], '음악':[99,88,77], '체육':[100,95,90] }\n",
    "df= pd.DataFrame(exam_data, index = ['서준', '동훈', '영인'])\n",
    "print(df)\n",
    "print('\\n')\n",
    "\n",
    "df2 = df[:]\n",
    "df2.drop('동훈', inplace=True)\n",
    "print(df2)\n",
    "print('\\n')\n",
    "\n",
    "df3 = df[:]\n",
    "df3.drop(['동훈','영인'], axis=0, inplace = True)\n",
    "print(df3)\n",
    "print('\\n')\n",
    "print(df)\n",
    "print('\\n')\n",
    "df.drop('수학',axis=1,inplace=False)"
   ]
  },
  {
   "cell_type": "code",
   "execution_count": 56,
   "id": "3dd68d70",
   "metadata": {},
   "outputs": [
    {
     "name": "stdout",
     "output_type": "stream",
     "text": [
      "    수학  영어  음악   체육\n",
      "서준  90  98  99  100\n",
      "동훈  80  89  88   95\n",
      "영인  70  95  77   90\n",
      "\n",
      "\n",
      "수학     90\n",
      "영어     98\n",
      "음악     99\n",
      "체육    100\n",
      "Name: 서준, dtype: int64\n",
      "\n",
      "\n",
      "수학     90\n",
      "영어     98\n",
      "음악     99\n",
      "체육    100\n",
      "Name: 서준, dtype: int64\n"
     ]
    }
   ],
   "source": [
    "import pandas as pd \n",
    "exam_data = {'수학':[90,80,70], '영어':[98,89,95], '음악':[99,88,77], '체육':[100,95,90] }\n",
    "df= pd.DataFrame(exam_data, index = ['서준', '동훈', '영인'])\n",
    "print(df)\n",
    "print('\\n')\n",
    "label1 = df.loc['서준']\n",
    "positional = df.iloc[0]\n",
    "print(label1)\n",
    "print('\\n')\n",
    "print(positional)\n",
    "#여기서는 iloc 와 loc의 차이가 없다."
   ]
  },
  {
   "cell_type": "code",
   "execution_count": 59,
   "id": "004f7230",
   "metadata": {},
   "outputs": [
    {
     "data": {
      "text/html": [
       "<div>\n",
       "<style scoped>\n",
       "    .dataframe tbody tr th:only-of-type {\n",
       "        vertical-align: middle;\n",
       "    }\n",
       "\n",
       "    .dataframe tbody tr th {\n",
       "        vertical-align: top;\n",
       "    }\n",
       "\n",
       "    .dataframe thead th {\n",
       "        text-align: right;\n",
       "    }\n",
       "</style>\n",
       "<table border=\"1\" class=\"dataframe\">\n",
       "  <thead>\n",
       "    <tr style=\"text-align: right;\">\n",
       "      <th></th>\n",
       "      <th>수학</th>\n",
       "    </tr>\n",
       "  </thead>\n",
       "  <tbody>\n",
       "    <tr>\n",
       "      <th>서준</th>\n",
       "      <td>90</td>\n",
       "    </tr>\n",
       "    <tr>\n",
       "      <th>동훈</th>\n",
       "      <td>80</td>\n",
       "    </tr>\n",
       "    <tr>\n",
       "      <th>영인</th>\n",
       "      <td>70</td>\n",
       "    </tr>\n",
       "  </tbody>\n",
       "</table>\n",
       "</div>"
      ],
      "text/plain": [
       "    수학\n",
       "서준  90\n",
       "동훈  80\n",
       "영인  70"
      ]
     },
     "execution_count": 59,
     "metadata": {},
     "output_type": "execute_result"
    }
   ],
   "source": [
    "df['수학'] # 시리즈 반환\n",
    "#[['']]부터 데이터 프레임으로 반환\n",
    "df[['수학']]"
   ]
  },
  {
   "cell_type": "code",
   "execution_count": 64,
   "id": "92dcdbc2",
   "metadata": {},
   "outputs": [
    {
     "data": {
      "text/html": [
       "<div>\n",
       "<style scoped>\n",
       "    .dataframe tbody tr th:only-of-type {\n",
       "        vertical-align: middle;\n",
       "    }\n",
       "\n",
       "    .dataframe tbody tr th {\n",
       "        vertical-align: top;\n",
       "    }\n",
       "\n",
       "    .dataframe thead th {\n",
       "        text-align: right;\n",
       "    }\n",
       "</style>\n",
       "<table border=\"1\" class=\"dataframe\">\n",
       "  <thead>\n",
       "    <tr style=\"text-align: right;\">\n",
       "      <th></th>\n",
       "      <th>이름</th>\n",
       "      <th>수학</th>\n",
       "      <th>영어</th>\n",
       "      <th>음악</th>\n",
       "      <th>체육</th>\n",
       "    </tr>\n",
       "  </thead>\n",
       "  <tbody>\n",
       "    <tr>\n",
       "      <th>0</th>\n",
       "      <td>서준</td>\n",
       "      <td>90</td>\n",
       "      <td>98</td>\n",
       "      <td>99</td>\n",
       "      <td>100</td>\n",
       "    </tr>\n",
       "    <tr>\n",
       "      <th>1</th>\n",
       "      <td>동훈</td>\n",
       "      <td>80</td>\n",
       "      <td>89</td>\n",
       "      <td>88</td>\n",
       "      <td>95</td>\n",
       "    </tr>\n",
       "    <tr>\n",
       "      <th>2</th>\n",
       "      <td>영인</td>\n",
       "      <td>70</td>\n",
       "      <td>95</td>\n",
       "      <td>77</td>\n",
       "      <td>90</td>\n",
       "    </tr>\n",
       "  </tbody>\n",
       "</table>\n",
       "</div>"
      ],
      "text/plain": [
       "   이름  수학  영어  음악   체육\n",
       "0  서준  90  98  99  100\n",
       "1  동훈  80  89  88   95\n",
       "2  영인  70  95  77   90"
      ]
     },
     "execution_count": 64,
     "metadata": {},
     "output_type": "execute_result"
    }
   ],
   "source": [
    "import pandas as pd \n",
    "exam_data = {'이름':['서준', '동훈', '영인'], '수학':[90,80,70], '영어':[98,89,95], '음악':[99,88,77], '체육':[100,95,90] }\n",
    "df = pd.DataFrame(exam_data)\n",
    "\n",
    "#set_index 메소드 사용하기\n",
    "df.set_index('이름', inplace=False)\n",
    "df\n",
    "# set_index 활용법!!!!"
   ]
  },
  {
   "cell_type": "code",
   "execution_count": 65,
   "id": "5ab58712",
   "metadata": {},
   "outputs": [
    {
     "data": {
      "text/html": [
       "<div>\n",
       "<style scoped>\n",
       "    .dataframe tbody tr th:only-of-type {\n",
       "        vertical-align: middle;\n",
       "    }\n",
       "\n",
       "    .dataframe tbody tr th {\n",
       "        vertical-align: top;\n",
       "    }\n",
       "\n",
       "    .dataframe thead th {\n",
       "        text-align: right;\n",
       "    }\n",
       "</style>\n",
       "<table border=\"1\" class=\"dataframe\">\n",
       "  <thead>\n",
       "    <tr style=\"text-align: right;\">\n",
       "      <th></th>\n",
       "      <th>이름</th>\n",
       "      <th>영어</th>\n",
       "      <th>음악</th>\n",
       "      <th>체육</th>\n",
       "    </tr>\n",
       "    <tr>\n",
       "      <th>수학</th>\n",
       "      <th></th>\n",
       "      <th></th>\n",
       "      <th></th>\n",
       "      <th></th>\n",
       "    </tr>\n",
       "  </thead>\n",
       "  <tbody>\n",
       "    <tr>\n",
       "      <th>90</th>\n",
       "      <td>서준</td>\n",
       "      <td>98</td>\n",
       "      <td>99</td>\n",
       "      <td>100</td>\n",
       "    </tr>\n",
       "    <tr>\n",
       "      <th>80</th>\n",
       "      <td>동훈</td>\n",
       "      <td>89</td>\n",
       "      <td>88</td>\n",
       "      <td>95</td>\n",
       "    </tr>\n",
       "    <tr>\n",
       "      <th>70</th>\n",
       "      <td>영인</td>\n",
       "      <td>95</td>\n",
       "      <td>77</td>\n",
       "      <td>90</td>\n",
       "    </tr>\n",
       "  </tbody>\n",
       "</table>\n",
       "</div>"
      ],
      "text/plain": [
       "    이름  영어  음악   체육\n",
       "수학                 \n",
       "90  서준  98  99  100\n",
       "80  동훈  89  88   95\n",
       "70  영인  95  77   90"
      ]
     },
     "execution_count": 65,
     "metadata": {},
     "output_type": "execute_result"
    }
   ],
   "source": [
    "df.set_index('수학', inplace=True)\n",
    "df"
   ]
  },
  {
   "cell_type": "markdown",
   "id": "9432d9e2",
   "metadata": {},
   "source": [
    "열 추가"
   ]
  },
  {
   "cell_type": "code",
   "execution_count": 69,
   "id": "cd8995d2",
   "metadata": {},
   "outputs": [
    {
     "data": {
      "text/html": [
       "<div>\n",
       "<style scoped>\n",
       "    .dataframe tbody tr th:only-of-type {\n",
       "        vertical-align: middle;\n",
       "    }\n",
       "\n",
       "    .dataframe tbody tr th {\n",
       "        vertical-align: top;\n",
       "    }\n",
       "\n",
       "    .dataframe thead th {\n",
       "        text-align: right;\n",
       "    }\n",
       "</style>\n",
       "<table border=\"1\" class=\"dataframe\">\n",
       "  <thead>\n",
       "    <tr style=\"text-align: right;\">\n",
       "      <th></th>\n",
       "      <th>수학</th>\n",
       "      <th>영어</th>\n",
       "      <th>음악</th>\n",
       "      <th>체육</th>\n",
       "      <th>국어</th>\n",
       "    </tr>\n",
       "  </thead>\n",
       "  <tbody>\n",
       "    <tr>\n",
       "      <th>서준</th>\n",
       "      <td>90</td>\n",
       "      <td>98</td>\n",
       "      <td>99</td>\n",
       "      <td>100</td>\n",
       "      <td>90</td>\n",
       "    </tr>\n",
       "    <tr>\n",
       "      <th>동훈</th>\n",
       "      <td>80</td>\n",
       "      <td>89</td>\n",
       "      <td>88</td>\n",
       "      <td>95</td>\n",
       "      <td>90</td>\n",
       "    </tr>\n",
       "    <tr>\n",
       "      <th>영인</th>\n",
       "      <td>70</td>\n",
       "      <td>95</td>\n",
       "      <td>77</td>\n",
       "      <td>90</td>\n",
       "      <td>90</td>\n",
       "    </tr>\n",
       "  </tbody>\n",
       "</table>\n",
       "</div>"
      ],
      "text/plain": [
       "    수학  영어  음악   체육  국어\n",
       "서준  90  98  99  100  90\n",
       "동훈  80  89  88   95  90\n",
       "영인  70  95  77   90  90"
      ]
     },
     "execution_count": 69,
     "metadata": {},
     "output_type": "execute_result"
    }
   ],
   "source": [
    "import pandas as pd \n",
    "exam_data = {'수학':[90,80,70], '영어':[98,89,95], '음악':[99,88,77], '체육':[100,95,90] }\n",
    "df= pd.DataFrame(exam_data, index = ['서준', '동훈', '영인'])\n",
    "df['국어'] = 90\n",
    "df"
   ]
  },
  {
   "cell_type": "markdown",
   "id": "ed92b640",
   "metadata": {},
   "source": [
    "행 추가"
   ]
  },
  {
   "cell_type": "code",
   "execution_count": 78,
   "id": "d4af59bc",
   "metadata": {},
   "outputs": [
    {
     "data": {
      "text/html": [
       "<div>\n",
       "<style scoped>\n",
       "    .dataframe tbody tr th:only-of-type {\n",
       "        vertical-align: middle;\n",
       "    }\n",
       "\n",
       "    .dataframe tbody tr th {\n",
       "        vertical-align: top;\n",
       "    }\n",
       "\n",
       "    .dataframe thead th {\n",
       "        text-align: right;\n",
       "    }\n",
       "</style>\n",
       "<table border=\"1\" class=\"dataframe\">\n",
       "  <thead>\n",
       "    <tr style=\"text-align: right;\">\n",
       "      <th></th>\n",
       "      <th>수학</th>\n",
       "      <th>영어</th>\n",
       "      <th>음악</th>\n",
       "      <th>체육</th>\n",
       "    </tr>\n",
       "  </thead>\n",
       "  <tbody>\n",
       "    <tr>\n",
       "      <th>서준</th>\n",
       "      <td>90</td>\n",
       "      <td>98</td>\n",
       "      <td>99</td>\n",
       "      <td>100</td>\n",
       "    </tr>\n",
       "    <tr>\n",
       "      <th>동훈</th>\n",
       "      <td>80</td>\n",
       "      <td>89</td>\n",
       "      <td>88</td>\n",
       "      <td>95</td>\n",
       "    </tr>\n",
       "    <tr>\n",
       "      <th>영인</th>\n",
       "      <td>70</td>\n",
       "      <td>95</td>\n",
       "      <td>77</td>\n",
       "      <td>90</td>\n",
       "    </tr>\n",
       "    <tr>\n",
       "      <th>민섭</th>\n",
       "      <td>90</td>\n",
       "      <td>80</td>\n",
       "      <td>90</td>\n",
       "      <td>100</td>\n",
       "    </tr>\n",
       "  </tbody>\n",
       "</table>\n",
       "</div>"
      ],
      "text/plain": [
       "    수학  영어  음악   체육\n",
       "서준  90  98  99  100\n",
       "동훈  80  89  88   95\n",
       "영인  70  95  77   90\n",
       "민섭  90  80  90  100"
      ]
     },
     "execution_count": 78,
     "metadata": {},
     "output_type": "execute_result"
    }
   ],
   "source": [
    "import pandas as pd \n",
    "exam_data = {'수학':[90,80,70], '영어':[98,89,95], '음악':[99,88,77], '체육':[100,95,90] }\n",
    "df= pd.DataFrame(exam_data, index = ['서준', '동훈', '영인'])\n",
    "df.loc['민섭'] = [90, 80, 90, 100]\n",
    "df"
   ]
  },
  {
   "cell_type": "markdown",
   "id": "7104577a",
   "metadata": {},
   "source": [
    "원소 값 변경"
   ]
  },
  {
   "cell_type": "code",
   "execution_count": 80,
   "id": "b7a23166",
   "metadata": {},
   "outputs": [
    {
     "data": {
      "text/html": [
       "<div>\n",
       "<style scoped>\n",
       "    .dataframe tbody tr th:only-of-type {\n",
       "        vertical-align: middle;\n",
       "    }\n",
       "\n",
       "    .dataframe tbody tr th {\n",
       "        vertical-align: top;\n",
       "    }\n",
       "\n",
       "    .dataframe thead th {\n",
       "        text-align: right;\n",
       "    }\n",
       "</style>\n",
       "<table border=\"1\" class=\"dataframe\">\n",
       "  <thead>\n",
       "    <tr style=\"text-align: right;\">\n",
       "      <th></th>\n",
       "      <th>수학</th>\n",
       "      <th>영어</th>\n",
       "      <th>음악</th>\n",
       "      <th>체육</th>\n",
       "    </tr>\n",
       "  </thead>\n",
       "  <tbody>\n",
       "    <tr>\n",
       "      <th>서준</th>\n",
       "      <td>90</td>\n",
       "      <td>98</td>\n",
       "      <td>99</td>\n",
       "      <td>100</td>\n",
       "    </tr>\n",
       "    <tr>\n",
       "      <th>동훈</th>\n",
       "      <td>100</td>\n",
       "      <td>100</td>\n",
       "      <td>100</td>\n",
       "      <td>100</td>\n",
       "    </tr>\n",
       "    <tr>\n",
       "      <th>영인</th>\n",
       "      <td>70</td>\n",
       "      <td>95</td>\n",
       "      <td>77</td>\n",
       "      <td>90</td>\n",
       "    </tr>\n",
       "  </tbody>\n",
       "</table>\n",
       "</div>"
      ],
      "text/plain": [
       "     수학   영어   음악   체육\n",
       "서준   90   98   99  100\n",
       "동훈  100  100  100  100\n",
       "영인   70   95   77   90"
      ]
     },
     "execution_count": 80,
     "metadata": {},
     "output_type": "execute_result"
    }
   ],
   "source": [
    "import pandas as pd \n",
    "exam_data = {'수학':[90,80,70], '영어':[98,89,95], '음악':[99,88,77], '체육':[100,95,90] }\n",
    "df= pd.DataFrame(exam_data, index = ['서준', '동훈', '영인'])\n",
    "df.loc['동훈',['수학','영어','음악','체육']] = 100\n",
    "df"
   ]
  },
  {
   "cell_type": "markdown",
   "id": "a9baf8a4",
   "metadata": {},
   "source": [
    "행, 열의 위치 바꾸기"
   ]
  },
  {
   "cell_type": "code",
   "execution_count": 83,
   "id": "7a4ed417",
   "metadata": {},
   "outputs": [
    {
     "data": {
      "text/html": [
       "<div>\n",
       "<style scoped>\n",
       "    .dataframe tbody tr th:only-of-type {\n",
       "        vertical-align: middle;\n",
       "    }\n",
       "\n",
       "    .dataframe tbody tr th {\n",
       "        vertical-align: top;\n",
       "    }\n",
       "\n",
       "    .dataframe thead th {\n",
       "        text-align: right;\n",
       "    }\n",
       "</style>\n",
       "<table border=\"1\" class=\"dataframe\">\n",
       "  <thead>\n",
       "    <tr style=\"text-align: right;\">\n",
       "      <th></th>\n",
       "      <th>서준</th>\n",
       "      <th>동훈</th>\n",
       "      <th>영인</th>\n",
       "    </tr>\n",
       "  </thead>\n",
       "  <tbody>\n",
       "    <tr>\n",
       "      <th>수학</th>\n",
       "      <td>90</td>\n",
       "      <td>80</td>\n",
       "      <td>70</td>\n",
       "    </tr>\n",
       "    <tr>\n",
       "      <th>영어</th>\n",
       "      <td>98</td>\n",
       "      <td>89</td>\n",
       "      <td>95</td>\n",
       "    </tr>\n",
       "    <tr>\n",
       "      <th>음악</th>\n",
       "      <td>99</td>\n",
       "      <td>88</td>\n",
       "      <td>77</td>\n",
       "    </tr>\n",
       "    <tr>\n",
       "      <th>체육</th>\n",
       "      <td>100</td>\n",
       "      <td>95</td>\n",
       "      <td>90</td>\n",
       "    </tr>\n",
       "  </tbody>\n",
       "</table>\n",
       "</div>"
      ],
      "text/plain": [
       "     서준  동훈  영인\n",
       "수학   90  80  70\n",
       "영어   98  89  95\n",
       "음악   99  88  77\n",
       "체육  100  95  90"
      ]
     },
     "execution_count": 83,
     "metadata": {},
     "output_type": "execute_result"
    }
   ],
   "source": [
    "import pandas as pd \n",
    "exam_data = {'수학':[90,80,70], '영어':[98,89,95], '음악':[99,88,77], '체육':[100,95,90] }\n",
    "df= pd.DataFrame(exam_data, index = ['서준', '동훈', '영인'])\n",
    "df.T"
   ]
  },
  {
   "cell_type": "markdown",
   "id": "f149159c",
   "metadata": {},
   "source": [
    "시리즈 vs 시리즈 연산"
   ]
  },
  {
   "cell_type": "code",
   "execution_count": 85,
   "id": "37500170",
   "metadata": {},
   "outputs": [
    {
     "name": "stdout",
     "output_type": "stream",
     "text": [
      "국어     NaN\n",
      "영어    80.0\n",
      "수학    90.0\n",
      "dtype: float64\n",
      "\n",
      "\n",
      "수학    80\n",
      "국어    90\n",
      "dtype: int64\n",
      "\n",
      "\n",
      "       국어        수학    영어\n",
      "뎃셈   90.0   170.000  80.0\n",
      "뺄셈  -90.0    10.000  80.0\n",
      "곱셈    0.0  7200.000   0.0\n",
      "나눗셈   0.0     1.125   inf\n"
     ]
    }
   ],
   "source": [
    "import pandas as pd\n",
    "import numpy as np\n",
    "\n",
    "student1 = pd.Series({'국어':np.nan, '영어':80, '수학':90})\n",
    "student2 = pd.Series({'수학':80, '국어': 90})\n",
    "\n",
    "print(student1)\n",
    "print('\\n')\n",
    "print(student2)\n",
    "print('\\n')\n",
    "\n",
    "sr_add = student1.add(student2, fill_value=0) #덧셈\n",
    "sr_sub = student1.sub(student2, fill_value=0) #뺄셈\n",
    "sr_mul = student1.mul(student2, fill_value=0) #곱셈\n",
    "sr_div = student1.div(student2, fill_value=0) #나눗셈\n",
    "\n",
    "result = pd.DataFrame([sr_add, sr_sub, sr_mul, sr_div], \n",
    "                     index = ['뎃셈','뺄셈','곱셈','나눗셈'])\n",
    "\n",
    "print(result)\n",
    "# 판다스에서는 자동적으로 같은 컬럼을 매치하여 연산결과를 한다. 같은 컬럼이 없으면, nan값으로 반영한다."
   ]
  },
  {
   "cell_type": "markdown",
   "id": "ba564cb4",
   "metadata": {},
   "source": [
    "데이터프레임 vs 데이터 프레임 연산"
   ]
  },
  {
   "cell_type": "code",
   "execution_count": 88,
   "id": "26e34a9b",
   "metadata": {},
   "outputs": [
    {
     "name": "stdout",
     "output_type": "stream",
     "text": [
      "      age   fare\n",
      "886  27.0  13.00\n",
      "887  19.0  30.00\n",
      "888   NaN  23.45\n",
      "889  26.0  30.00\n",
      "890  32.0   7.75\n",
      "\n",
      "\n",
      "<class 'pandas.core.frame.DataFrame'>\n",
      "\n",
      "\n",
      "      age   fare\n",
      "886  37.0  23.00\n",
      "887  29.0  40.00\n",
      "888   NaN  33.45\n",
      "889  36.0  40.00\n",
      "890  42.0  17.75\n",
      "\n",
      "\n",
      "<class 'pandas.core.frame.DataFrame'>\n",
      "\n",
      "\n",
      "      age  fare\n",
      "886  10.0  10.0\n",
      "887  10.0  10.0\n",
      "888   NaN  10.0\n",
      "889  10.0  10.0\n",
      "890  10.0  10.0\n",
      "\n",
      "\n",
      "<class 'pandas.core.frame.DataFrame'>\n"
     ]
    }
   ],
   "source": [
    "import pandas as pd\n",
    "import seaborn as sns\n",
    "\n",
    "#titanic에서 자료 가져오기\n",
    "\n",
    "titanic = sns.load_dataset('titanic')\n",
    "df = titanic.loc[:, ['age','fare']]\n",
    "print(df.tail())\n",
    "print('\\n')\n",
    "print(type(df))\n",
    "print('\\n')\n",
    "\n",
    "# 데이터프레임에 숫자 10 더하기\n",
    "addition = df + 10\n",
    "print(addition.tail())\n",
    "print('\\n')\n",
    "print(type(addition))\n",
    "print('\\n')\n",
    "\n",
    "# 데이터프레임끼리 연산하기(addition - df)\n",
    "subtraction = addition - df\n",
    "print(subtraction.tail())\n",
    "print('\\n')\n",
    "print(type(subtraction))"
   ]
  },
  {
   "cell_type": "code",
   "execution_count": null,
   "id": "0067d54a",
   "metadata": {},
   "outputs": [],
   "source": []
  }
 ],
 "metadata": {
  "kernelspec": {
   "display_name": "Python 3",
   "language": "python",
   "name": "python3"
  },
  "language_info": {
   "codemirror_mode": {
    "name": "ipython",
    "version": 3
   },
   "file_extension": ".py",
   "mimetype": "text/x-python",
   "name": "python",
   "nbconvert_exporter": "python",
   "pygments_lexer": "ipython3",
   "version": "3.8.8"
  }
 },
 "nbformat": 4,
 "nbformat_minor": 5
}
